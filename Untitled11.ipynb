{
 "cells": [
  {
   "cell_type": "code",
   "execution_count": null,
   "id": "b1505cf1-ffd6-4204-b54f-a45af1f0d55f",
   "metadata": {},
   "outputs": [],
   "source": [
    "#Data Structures Methods\n",
    "lst = [1,1,4,5,6]\n",
    "lst.append(1)\n",
    "print(lst)"
   ]
  },
  {
   "cell_type": "code",
   "execution_count": null,
   "id": "309b5543-4ea8-4e60-9043-07ce862def32",
   "metadata": {},
   "outputs": [],
   "source": []
  },
  {
   "cell_type": "code",
   "execution_count": null,
   "id": "1c711b6f-cd29-491a-ba5e-c109d6460188",
   "metadata": {},
   "outputs": [],
   "source": [
    "a=[2,8.2,3,2]\n",
    "\n",
    "a.extend([1,2])\n",
    "\n"
   ]
  },
  {
   "cell_type": "code",
   "execution_count": null,
   "id": "58fe569c-307f-41dd-bb4f-ec3bd3a3b9ff",
   "metadata": {},
   "outputs": [],
   "source": []
  },
  {
   "cell_type": "code",
   "execution_count": null,
   "id": "f720c7dd-ed06-4476-8f2b-144618fa168c",
   "metadata": {},
   "outputs": [],
   "source": []
  },
  {
   "cell_type": "code",
   "execution_count": null,
   "id": "e3685f7a-396a-4031-850f-7582edefa74b",
   "metadata": {},
   "outputs": [],
   "source": []
  },
  {
   "cell_type": "code",
   "execution_count": null,
   "id": "64ba9818-305d-4509-ace2-c4d7a7a8247a",
   "metadata": {},
   "outputs": [],
   "source": []
  },
  {
   "cell_type": "code",
   "execution_count": null,
   "id": "0900126b-df9c-407d-b9b9-4d373c0473d4",
   "metadata": {},
   "outputs": [],
   "source": []
  },
  {
   "cell_type": "code",
   "execution_count": null,
   "id": "61c6c8c2-d58d-4921-b660-8b6dccd5f8bb",
   "metadata": {},
   "outputs": [],
   "source": []
  },
  {
   "cell_type": "code",
   "execution_count": null,
   "id": "ee93c215-f5da-4191-b6b0-97bd8853feeb",
   "metadata": {},
   "outputs": [],
   "source": []
  },
  {
   "cell_type": "code",
   "execution_count": null,
   "id": "22a0fc56-774b-4e09-a98c-549e19f4bb12",
   "metadata": {},
   "outputs": [],
   "source": []
  },
  {
   "cell_type": "code",
   "execution_count": null,
   "id": "34cc860f-0116-4da2-aef5-5190a274c955",
   "metadata": {},
   "outputs": [],
   "source": []
  }
 ],
 "metadata": {
  "kernelspec": {
   "display_name": "Python 3 (ipykernel)",
   "language": "python",
   "name": "python3"
  },
  "language_info": {
   "codemirror_mode": {
    "name": "ipython",
    "version": 3
   },
   "file_extension": ".py",
   "mimetype": "text/x-python",
   "name": "python",
   "nbconvert_exporter": "python",
   "pygments_lexer": "ipython3",
   "version": "3.13.5"
  }
 },
 "nbformat": 4,
 "nbformat_minor": 5
}
